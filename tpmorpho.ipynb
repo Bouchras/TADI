{
  "nbformat": 4,
  "nbformat_minor": 0,
  "metadata": {
    "kernelspec": {
      "display_name": "Python 2",
      "language": "python",
      "name": "python2"
    },
    "language_info": {
      "codemirror_mode": {
        "name": "ipython",
        "version": 2
      },
      "file_extension": ".py",
      "mimetype": "text/x-python",
      "name": "python",
      "nbconvert_exporter": "python",
      "pygments_lexer": "ipython2",
      "version": "2.7.13"
    },
    "colab": {
      "name": "tpmorpho.ipynb",
      "provenance": [],
      "collapsed_sections": [],
      "toc_visible": true,
      "include_colab_link": true
    }
  },
  "cells": [
    {
      "cell_type": "markdown",
      "metadata": {
        "id": "view-in-github",
        "colab_type": "text"
      },
      "source": [
        "<a href=\"https://colab.research.google.com/github/Bouchras/TADI/blob/master/tpmorpho.ipynb\" target=\"_parent\"><img src=\"https://colab.research.google.com/assets/colab-badge.svg\" alt=\"Open In Colab\"/></a>"
      ]
    },
    {
      "cell_type": "code",
      "metadata": {
        "id": "FyCTXXNdEWUQ",
        "colab_type": "code",
        "colab": {}
      },
      "source": [
        "#%% SECTION 1 inclusion de packages externes \n",
        "import numpy as np\n",
        "import platform\n",
        "import tempfile\n",
        "import os\n",
        "from PIL import Image  \n",
        "import PIL  \n",
        "import matplotlib.pyplot as plt\n",
        "from scipy import ndimage as ndi\n",
        "# necessite scikit-image \n",
        "from skimage import io as skio\n",
        "import matplotlib.cm as cm\n",
        "\n",
        "# POUR LA MORPHO\n",
        "import skimage.morphology as morpho  \n",
        "import skimage.feature as skf\n",
        "from scipy import ndimage as ndi\n"
      ],
      "execution_count": 0,
      "outputs": []
    },
    {
      "cell_type": "markdown",
      "metadata": {
        "id": "BIeEsBKDEWUY",
        "colab_type": "text"
      },
      "source": [
        "Sources Hugues Talbot : De nombreux opérateurs morphologiques préservent la structure d’ordre, c’est-à-dire que ce sont des opérateurs croissants (x ≤ y ⇒ Φ(x) ≤ Φ(y)).  Les opérateurs les plus simples que l’on peut introduire sur un treillis sont ceux qui commutent avec le supremum ou avec l’infimum. Plus précisément, une dilatation est un opérateur croissant anti-extensif (γ(X) ≤ X) qui commute avec le supremum ∨, une érosion est un opérateur croissant extensif (γ(X) ≥ X) qui commute avec l’infimum ∧. Ces deux opérateurs sont duaux l’un par rapport à l’autre.\n",
        "Dans une image binaire, la structure d’ordre ≤ est donné par l’inclusion ⊆, le supremum ∨ par l’union ∪, et l’infimum ∧ par l’intersection ∩\n"
      ]
    },
    {
      "cell_type": "code",
      "metadata": {
        "id": "WSXoIdnnEWUa",
        "colab_type": "code",
        "colab": {}
      },
      "source": [
        "\n",
        "#%% SECTION 2 fonctions utiles pour le TP\n",
        "\n",
        "def viewimage(im,normalise=True,MINI=0.0, MAXI=255.0):\n",
        "    \"\"\" Cette fonction fait afficher l'image EN NIVEAUX DE GRIS \n",
        "        dans gimp. Si un gimp est deja ouvert il est utilise.\n",
        "        Par defaut normalise=True. Et dans ce cas l'image est normalisee \n",
        "        entre 0 et 255 avant d'être sauvegardee.\n",
        "        Si normalise=False MINI et MAXI seront mis a 0 et 255 dans l'image resultat\n",
        "        \n",
        "    \"\"\"\n",
        "    imt=np.float32(im.copy())\n",
        "    if platform.system()=='Darwin': #on est sous mac\n",
        "        prephrase='open -a GIMP '\n",
        "        endphrase=' ' \n",
        "    else: #SINON ON SUPPOSE LINUX (si vous avez un windows je ne sais comment faire. Si vous savez dites-moi.)\n",
        "        prephrase='gimp '\n",
        "        endphrase= ' &'\n",
        "    \n",
        "    if normalise:\n",
        "        m=imt.min()\n",
        "        imt=imt-m\n",
        "        M=imt.max()\n",
        "        if M>0:\n",
        "            imt=imt/M\n",
        "\n",
        "    else:\n",
        "        imt=(imt-MINI)/(MAXI-MINI)\n",
        "        imt[imt<0]=0\n",
        "        imt[imt>1]=1\n",
        "    \n",
        "    nomfichier=tempfile.mktemp('TPIMA.png')\n",
        "    commande=prephrase +nomfichier+endphrase\n",
        "    skio.imsave(nomfichier,imt)\n",
        "    os.system(commande)\n",
        "\n",
        "def viewimage_color(im,normalise=True,MINI=0.0, MAXI=255.0):\n",
        "    \"\"\" Cette fonction fait afficher l'image EN NIVEAUX DE GRIS \n",
        "        dans gimp. Si un gimp est deja ouvert il est utilise.\n",
        "        Par defaut normalise=True. Et dans ce cas l'image est normalisee \n",
        "        entre 0 et 255 avant d'être sauvegardee.\n",
        "        Si normalise=False MINI(defaut 0) et MAXI (defaut 255) seront mis a 0 et 255 dans l'image resultat\n",
        "        \n",
        "    \"\"\"\n",
        "    imt=np.float32(im.copy())\n",
        "    if platform.system()=='Darwin': #on est sous mac\n",
        "        prephrase='open -a GIMP '\n",
        "        endphrase= ' '\n",
        "    else: #SINON ON SUPPOSE LINUX (si vous avez un windows je ne sais comment faire. Si vous savez dites-moi.)\n",
        "        prephrase='gimp '\n",
        "        endphrase=' &'\n",
        "    \n",
        "    if normalise:\n",
        "        m=imt.min()\n",
        "        imt=imt-m\n",
        "        M=imt.max()\n",
        "        if M>0:\n",
        "            imt=imt/M\n",
        "    else:\n",
        "        imt=(imt-MINI)/(MAXI-MINI)\n",
        "        imt[imt<0]=0\n",
        "        imt[imt>1]=1\n",
        "    \n",
        "    nomfichier=tempfile.mktemp('TPIMA.pgm')\n",
        "    commande=prephrase +nomfichier+endphrase\n",
        "    skio.imsave(nomfichier,imt)\n",
        "    os.system(commande)\n",
        "\n",
        "\n",
        "def strel(forme,taille,angle=45):\n",
        "    \"\"\"renvoie un element structurant de forme  \n",
        "     'diamond'  boule de la norme 1 fermee de rayon taille\n",
        "     'disk'     boule de la norme 2 fermee de rayon taille\n",
        "     'square'   carre de cote taille (il vaut mieux utiliser taille=impair)\n",
        "     'line'     segment de langueur taille et d'orientation angle (entre 0 et 180 en degres)\n",
        "      (Cette fonction n'est pas standard dans python)\n",
        "    \"\"\"\n",
        "\n",
        "    if forme == 'diamond':\n",
        "        return morpho.selem.diamond(taille)\n",
        "    if forme == 'disk':\n",
        "        return morpho.selem.disk(taille)\n",
        "    if forme == 'square':\n",
        "        return morpho.selem.square(taille)\n",
        "    if forme == 'line':\n",
        "        angle=int(-np.round(angle))\n",
        "        angle=angle%180\n",
        "        angle=np.float32(angle)/180.0*np.pi\n",
        "        x=int(np.round(np.cos(angle)*taille))\n",
        "        y=int(np.round(np.sin(angle)*taille))\n",
        "        if x**2+y**2 == 0:\n",
        "            if abs(np.cos(angle))>abs(np.sin(angle)):\n",
        "                x=int(np.sign(np.cos(angle)))\n",
        "                y=0\n",
        "            else:\n",
        "                y=int(np.sign(np.sin(angle)))\n",
        "                x=0\n",
        "        rr,cc=morpho.selem.draw.line(0,0,y,x)\n",
        "        rr=rr-rr.min()\n",
        "        cc=cc-cc.min()\n",
        "        img=np.zeros((rr.max()+1,cc.max()+1) )\n",
        "        img[rr,cc]=1\n",
        "        return img\n",
        "    raise RuntimeError('Erreur dans fonction strel: forme incomprise')\n",
        "\n",
        "            \n",
        "\n",
        "def couleurs_alea(im):\n",
        "    \"\"\" \n",
        "    Donne des couleurs aleatoires a une image en niveau de gris.\n",
        "    Cette fonction est utile lorsque le niveua de gris d'interprete comme un numero\n",
        "      de region. Ou encore pour voir les leger degrades d'une teinte de gris.\n",
        "      \"\"\"\n",
        "    sh=im.shape\n",
        "    out=np.zeros((sh,3),dtype=np.uint8)\n",
        "    nbcoul=np.int32(im.max())\n",
        "    tabcoul=np.random.randint(0,256,size=(nbcoul+1,3))\n",
        "    tabcoul[0,:]=0\n",
        "    for k in range(sh[0]):\n",
        "        for l in range(sh[1]):\n",
        "            out[k,l,:]=tabcoul[im[k,l]]\n",
        "    return out"
      ],
      "execution_count": 0,
      "outputs": []
    },
    {
      "cell_type": "markdown",
      "metadata": {
        "id": "pacxgM5zEWUg",
        "colab_type": "text"
      },
      "source": [
        "# SECTION 3 exemples de commandes pour effectuer ce qui est demande pendant le TP\n"
      ]
    },
    {
      "cell_type": "code",
      "metadata": {
        "id": "ChJGfreREWUi",
        "colab_type": "code",
        "outputId": "bf9b2579-46b1-4053-a1a8-1fda88e50164",
        "colab": {
          "base_uri": "https://localhost:8080/",
          "height": 351
        }
      },
      "source": [
        "im=skio.imread('cellbin.bmp') #affichage de l'image d'origine\n",
        "viewimage(im)\n",
        "skio.imshow(im)"
      ],
      "execution_count": 0,
      "outputs": [
        {
          "output_type": "stream",
          "text": [
            "/usr/local/lib/python2.7/dist-packages/skimage/util/dtype.py:141: UserWarning: Possible precision loss when converting from float32 to uint16\n",
            "  .format(dtypeobj_in, dtypeobj_out))\n"
          ],
          "name": "stderr"
        },
        {
          "output_type": "execute_result",
          "data": {
            "text/plain": [
              "<matplotlib.image.AxesImage at 0x7f94b4fbb750>"
            ]
          },
          "metadata": {
            "tags": []
          },
          "execution_count": 3
        },
        {
          "output_type": "display_data",
          "data": {
            "image/png": "[encoded data removed]",
            "text/plain": [
              "<Figure size 432x288 with 1 Axes>"
            ]
          },
          "metadata": {
            "tags": []
          }
        }
      ]
    },
    {
      "cell_type": "code",
      "metadata": {
        "id": "igMj5td1EWUv",
        "colab_type": "code",
        "colab": {}
      },
      "source": [
        "se=strel('disk',4)"
      ],
      "execution_count": 0,
      "outputs": []
    },
    {
      "cell_type": "markdown",
      "metadata": {
        "id": "3p1bbwKHEWUz",
        "colab_type": "text"
      },
      "source": [
        "## 1 Dilatation "
      ]
    },
    {
      "cell_type": "code",
      "metadata": {
        "id": "WslK5v4rEWU1",
        "colab_type": "code",
        "outputId": "8d7ac469-2acd-40fd-a6ad-d82bc1cf64f8",
        "colab": {
          "base_uri": "https://localhost:8080/",
          "height": 315
        }
      },
      "source": [
        "dil4=morpho.dilation(im,se)\n",
        "#viewimage(dil4)\n",
        "skio.imshow(dil4)\n"
      ],
      "execution_count": 0,
      "outputs": [
        {
          "output_type": "execute_result",
          "data": {
            "text/plain": [
              "<matplotlib.image.AxesImage at 0x7f94b2768bd0>"
            ]
          },
          "metadata": {
            "tags": []
          },
          "execution_count": 5
        },
        {
          "output_type": "display_data",
          "data": {
            "image/png": "[encoded data removed]",
            "text/plain": [
              "<Figure size 432x288 with 1 Axes>"
            ]
          },
          "metadata": {
            "tags": []
          }
        }
      ]
    },
    {
      "cell_type": "markdown",
      "metadata": {
        "id": "TWBuBYc6EWU7",
        "colab_type": "text"
      },
      "source": [
        "En considérant un élément structurant B et une image X : la dilatation de X est le résultat de l’intersection de B avec X, par conséquent la dilattion de X par B grossit.\n",
        "- La dilatation d'un petit objet est plus petite que celle d'un objet plus grand( croissance)\n",
        "- Les objets de départ sont inclus dans leur dilaté ( extensivité)"
      ]
    },
    {
      "cell_type": "markdown",
      "metadata": {
        "id": "yNO1NrSiEWU8",
        "colab_type": "text"
      },
      "source": [
        "#### 1.1 Modifier la taille de l'element structurant"
      ]
    },
    {
      "cell_type": "code",
      "metadata": {
        "id": "WibLezW7EWU-",
        "colab_type": "code",
        "colab": {}
      },
      "source": [
        "seG=strel('line',20)\n",
        "dil5 = morpho.dilation(im,seG)\n",
        "#viewimage(dil5)\n",
        "skio.imshow(dil5)"
      ],
      "execution_count": 0,
      "outputs": []
    },
    {
      "cell_type": "markdown",
      "metadata": {
        "id": "QWMsh6cKEWVC",
        "colab_type": "text"
      },
      "source": [
        "##### Observations : \n",
        "Faire croitre la taille de l'element structurant : \n",
        "- Toutes les cellules grossisent.\n",
        "- S'il existe des trous (qui est le fond de l'image) dans les cellules, ils sont comblés.\n",
        "- Les cellules qui sont situées l'une de l'autre à une distance plus petite que la taille de l'element structurant, sont fusionnées. "
      ]
    },
    {
      "cell_type": "markdown",
      "metadata": {
        "id": "YC9iD4yjEWVD",
        "colab_type": "text"
      },
      "source": [
        "#### 1.2 Modifier la forme de l'element structurant\n"
      ]
    },
    {
      "cell_type": "code",
      "metadata": {
        "id": "dN7Qla8PEWVF",
        "colab_type": "code",
        "colab": {}
      },
      "source": [
        "se1=strel('line',10)\n",
        "dilLine = morpho.dilation(im,se1)\n",
        "#viewimage(dilLine)\n",
        "skio.imshow(dilLine)"
      ],
      "execution_count": 0,
      "outputs": []
    },
    {
      "cell_type": "markdown",
      "metadata": {
        "id": "u1pJd3CrEWVL",
        "colab_type": "text"
      },
      "source": [
        "- Le résultat de la dilatation varie selon l'element structurant.\n",
        " - Si B est un carré alors les bords ont une forme d'escaliers.\n",
        " - Si B est un disk : le bord des objets est lisse.\n",
        " - Si B est une ligne : "
      ]
    },
    {
      "cell_type": "markdown",
      "metadata": {
        "id": "QTY8Uta6EWVM",
        "colab_type": "text"
      },
      "source": [
        "#### 1.3 Verification de l'idempotence"
      ]
    },
    {
      "cell_type": "code",
      "metadata": {
        "id": "W8jtf4BfEWVO",
        "colab_type": "code",
        "colab": {}
      },
      "source": [
        "se1=strel('disk',5)\n",
        "dilDisk1= morpho.dilation(im,se1)\n",
        "#viewimage(dilDisk1)\n",
        "skio.imshow(dilDisk1)"
      ],
      "execution_count": 0,
      "outputs": []
    },
    {
      "cell_type": "code",
      "metadata": {
        "id": "vkP6Wvv0EWVT",
        "colab_type": "code",
        "colab": {}
      },
      "source": [
        "se2=strel('disk',5)\n",
        "dilDisk2 = morpho.dilation(dilDisk1,se2)\n",
        "#viewimage(dilDisk2)\n",
        "skio.imshow(dilDisk2)\n"
      ],
      "execution_count": 0,
      "outputs": []
    },
    {
      "cell_type": "code",
      "metadata": {
        "id": "gHrxG7LgEWVY",
        "colab_type": "code",
        "colab": {}
      },
      "source": [
        "se3=strel('disk',5)\n",
        "dilDisk3 = morpho.dilation(dilDisk2,se3)\n",
        "#viewimage(dilDisk3)\n",
        "skio.imshow(dilDisk3)"
      ],
      "execution_count": 0,
      "outputs": []
    },
    {
      "cell_type": "markdown",
      "metadata": {
        "id": "Z1wdLVrDEWVd",
        "colab_type": "text"
      },
      "source": [
        "#### 1.4 Conclusion sur la dilatation : "
      ]
    },
    {
      "cell_type": "markdown",
      "metadata": {
        "id": "tN0u0yItEWVg",
        "colab_type": "text"
      },
      "source": [
        "## 2 Erosion "
      ]
    },
    {
      "cell_type": "code",
      "metadata": {
        "id": "3kp6SDGXEWVh",
        "colab_type": "code",
        "colab": {}
      },
      "source": [
        "ero4=morpho.erosion(im,se)\n",
        "viewimage(ero4)\n",
        "skio.imshow(ero4)"
      ],
      "execution_count": 0,
      "outputs": []
    },
    {
      "cell_type": "markdown",
      "metadata": {
        "id": "5a9pMm7ZEWVm",
        "colab_type": "text"
      },
      "source": [
        "En considérant un élément structurant B et une image X : l'érosion de X est le résultat quand B est completement inclus dans X par conséquant l'érosion réduit la taille des objets présents dans l'image.\n",
        "- les objets de taille inferieure à celle de B disparaissent.\n",
        "    "
      ]
    },
    {
      "cell_type": "markdown",
      "metadata": {
        "id": "y2p32ZL0EWVp",
        "colab_type": "text"
      },
      "source": [
        "#### 2.1 Modifier la taille de l'element structurant"
      ]
    },
    {
      "cell_type": "code",
      "metadata": {
        "id": "s8yN1LuEEWVq",
        "colab_type": "code",
        "colab": {}
      },
      "source": [
        "seG=strel('disk',10)\n",
        "ero5=morpho.erosion(im,seG)\n",
        "viewimage(ero5)\n",
        "skio.imshow(ero5)"
      ],
      "execution_count": 0,
      "outputs": []
    },
    {
      "cell_type": "markdown",
      "metadata": {
        "id": "B3urIDq8EWVv",
        "colab_type": "text"
      },
      "source": [
        "- En augmentant la taille de B, les objets rétrecissent et ceux de tailles inferieurs à celle de B dispraraissent.\n",
        "- Les trous (le fond) dans les objets s'accentuent.\n",
        "- Les objets reliés entre eux sont séparés."
      ]
    },
    {
      "cell_type": "markdown",
      "metadata": {
        "id": "d4IDLtnPEWVw",
        "colab_type": "text"
      },
      "source": [
        "#### 2.2 Modifier la forme de l'element structurant\n"
      ]
    },
    {
      "cell_type": "code",
      "metadata": {
        "id": "Zq6mb55uEWVy",
        "colab_type": "code",
        "colab": {}
      },
      "source": [
        "seL=strel('line',5)\n",
        "eroL=morpho.erosion(im,seL)\n",
        "#viewimage(eroL)\n",
        "skio.imshow(eroL)"
      ],
      "execution_count": 0,
      "outputs": []
    },
    {
      "cell_type": "code",
      "metadata": {
        "id": "pZjqS956YhMA",
        "colab_type": "code",
        "colab": {}
      },
      "source": [
        "seD=strel('diamond',5)\n",
        "eroD=morpho.erosion(im,seD)\n",
        "#viewimage(eroD)\n",
        "skio.imshow(eroD)"
      ],
      "execution_count": 0,
      "outputs": []
    },
    {
      "cell_type": "markdown",
      "metadata": {
        "id": "Mco52WN0EWV2",
        "colab_type": "text"
      },
      "source": [
        "####  2.3 Verification de l'idempotence"
      ]
    },
    {
      "cell_type": "code",
      "metadata": {
        "id": "sQsPWfJ-EWV4",
        "colab_type": "code",
        "colab": {}
      },
      "source": [
        "eroD1= morpho.erosion(im,se1)\n",
        "skio.imshow(eroD1)"
      ],
      "execution_count": 0,
      "outputs": []
    },
    {
      "cell_type": "code",
      "metadata": {
        "id": "QD7YSFkiEWWA",
        "colab_type": "code",
        "colab": {}
      },
      "source": [
        "eroD2 = morpho.erosion(eroD1,se2)\n",
        "skio.imshow(eroD2)"
      ],
      "execution_count": 0,
      "outputs": []
    },
    {
      "cell_type": "markdown",
      "metadata": {
        "id": "JrrNqE9ZEWWJ",
        "colab_type": "text"
      },
      "source": [
        "#### 2.4 Conclusion sur l'érosion: "
      ]
    },
    {
      "cell_type": "markdown",
      "metadata": {
        "id": "EgPHK21_EWWM",
        "colab_type": "text"
      },
      "source": [
        "- L'érosion est une transformation croissante.\n",
        "- L'érosion est antiextensive.\n",
        "- L'érosion  n'est pas idempotente. \n",
        "- L'érosion  rétrécie les objets présents dans l’image et la direction et la taille de ce rétrécissement dépendent de la forme et la taille de l’élément structurant."
      ]
    },
    {
      "cell_type": "markdown",
      "metadata": {
        "id": "XHfhQNZ0EWWO",
        "colab_type": "text"
      },
      "source": [
        "____\n",
        "- L'érosion et la dilatation sont des opérations duales mais pas inverses et non reversibles. \n",
        "- La dilatation fait disparaître les petits trous et fais grossir les objets\n",
        "- L'érosion fait disparaître les petits objets et les petits isthmes et amincie le reste des objets.\n",
        "___"
      ]
    },
    {
      "cell_type": "markdown",
      "metadata": {
        "id": "t-L4NWi8EWWP",
        "colab_type": "text"
      },
      "source": [
        "## 3 Ouverture"
      ]
    },
    {
      "cell_type": "markdown",
      "metadata": {
        "id": "OctMzmqXEWWQ",
        "colab_type": "text"
      },
      "source": [
        "- L'ouverture est une érosion par B suivie d'une dilatation avec le même element structurant."
      ]
    },
    {
      "cell_type": "code",
      "metadata": {
        "id": "cczPIeB2g3OA",
        "colab_type": "code",
        "colab": {}
      },
      "source": [
        "skio.imshow(im)"
      ],
      "execution_count": 0,
      "outputs": []
    },
    {
      "cell_type": "code",
      "metadata": {
        "id": "fhhUeqB7EWWS",
        "colab_type": "code",
        "colab": {}
      },
      "source": [
        "#Disk\n",
        "se = strel('disk',4)\n",
        "open4=morpho.opening(im,se)\n",
        "#viewimage(open4)\n",
        "skio.imshow(open4)\n"
      ],
      "execution_count": 0,
      "outputs": []
    },
    {
      "cell_type": "markdown",
      "metadata": {
        "id": "FvqMmSSHkUXI",
        "colab_type": "text"
      },
      "source": [
        "#### 3.1 Modifier la forme de l'element structurant"
      ]
    },
    {
      "cell_type": "code",
      "metadata": {
        "id": "UnngJ5KlEWWb",
        "colab_type": "code",
        "colab": {}
      },
      "source": [
        "# Line\n",
        "seL = strel('line',4)\n",
        "open4L=morpho.opening(im,seL)\n",
        "#viewimage(open4L)\n",
        "skio.imshow(open4L)"
      ],
      "execution_count": 0,
      "outputs": []
    },
    {
      "cell_type": "markdown",
      "metadata": {
        "id": "t0_E1-fckgRw",
        "colab_type": "text"
      },
      "source": [
        "### 3.2 Modifier la taille de l'element structurant"
      ]
    },
    {
      "cell_type": "code",
      "metadata": {
        "id": "Y739EsUoEWWf",
        "colab_type": "code",
        "colab": {}
      },
      "source": [
        "# Disk = 10\n",
        "open10G=morpho.opening(im,seG)\n",
        "#viewimage(open10)\n",
        "skio.imshow(open10G)"
      ],
      "execution_count": 0,
      "outputs": []
    },
    {
      "cell_type": "code",
      "metadata": {
        "id": "V91gqn2xZOan",
        "colab_type": "code",
        "colab": {}
      },
      "source": [
        "# Diamond = 10\n",
        "seD = strel('diamond', 10)\n",
        "open10D=morpho.opening(im,seD)\n",
        "#viewimage(open10D)\n",
        "skio.imshow(open10D)"
      ],
      "execution_count": 0,
      "outputs": []
    },
    {
      "cell_type": "markdown",
      "metadata": {
        "id": "lCG52xL3kPK6",
        "colab_type": "text"
      },
      "source": [
        "### 3.3 Idempotence"
      ]
    },
    {
      "cell_type": "code",
      "metadata": {
        "id": "fYpOUWQbksF4",
        "colab_type": "code",
        "colab": {}
      },
      "source": [
        "open42=morpho.opening(open4,se)\n",
        "#viewimage(open4)\n",
        "skio.imshow(open42)\n",
        "\n",
        "plt.subplot(131)\n",
        "plt.imshow(im, norm = None)\n",
        "\n",
        "plt.subplot(132)\n",
        "plt.imshow(open4, norm = None)\n",
        "\n",
        "plt.subplot(133)\n",
        "plt.imshow(open42, norm = None)\n"
      ],
      "execution_count": 0,
      "outputs": []
    },
    {
      "cell_type": "markdown",
      "metadata": {
        "id": "H8w0qEv3gnch",
        "colab_type": "text"
      },
      "source": [
        "## 4 Fermeture"
      ]
    },
    {
      "cell_type": "code",
      "metadata": {
        "id": "oQWfT4SjEWWi",
        "colab_type": "code",
        "colab": {}
      },
      "source": [
        "#fermeture\n",
        "close4=morpho.closing(im,se)\n",
        "viewimage(close4)\n",
        "skio.imshow(close4)"
      ],
      "execution_count": 0,
      "outputs": []
    },
    {
      "cell_type": "markdown",
      "metadata": {
        "id": "1_kW5o3lgm_p",
        "colab_type": "text"
      },
      "source": [
        "_______________\n",
        "- L'ouverture élimine les objets qui sont plus petits que B et déforme les coins convexes. \n",
        "- La fermeture rebouche toutes les parties du fond, qui sont plus petites que B et déforme les coins concaves de l'image.\n",
        "________________"
      ]
    },
    {
      "cell_type": "markdown",
      "metadata": {
        "id": "cEboFIcpZ8Dd",
        "colab_type": "text"
      },
      "source": [
        "successiond'unedilatationparuncarrédetaille3×3etd'unedilatationparuncarrédetaille5×5"
      ]
    },
    {
      "cell_type": "code",
      "metadata": {
        "id": "AeD5tlvrEWWm",
        "colab_type": "code",
        "colab": {}
      },
      "source": [
        ""
      ],
      "execution_count": 0,
      "outputs": []
    },
    {
      "cell_type": "markdown",
      "metadata": {
        "id": "dZdUnJrSZ16p",
        "colab_type": "text"
      },
      "source": [
        ""
      ]
    }
  ]
}